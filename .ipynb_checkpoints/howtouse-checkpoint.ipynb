{
 "cells": [
  {
   "cell_type": "markdown",
   "id": "1728072e-b151-4a62-ad4a-31c6ed4a843c",
   "metadata": {},
   "source": [
    "## How to use"
   ]
  },
  {
   "cell_type": "markdown",
   "id": "0a456afd-8d02-41d3-9445-618e11694f3d",
   "metadata": {},
   "source": [
    "### Data processing related to TLE file"
   ]
  },
  {
   "cell_type": "markdown",
   "id": "725920d4-7f11-449d-b30e-3d94c85d8b35",
   "metadata": {},
   "source": [
    "#### Read and parse a TLE file"
   ]
  },
  {
   "cell_type": "code",
   "execution_count": 7,
   "id": "803ebb52-b9a7-4bb0-b1d8-7577981593eb",
   "metadata": {},
   "outputs": [
    {
     "name": "stdout",
     "output_type": "stream",
     "text": [
      "['2022-05-18T23:07:15.444Z', '2022-05-23T22:00:02.000Z', '2022-05-24T06:32:39.874Z']\n",
      "      noradid         a       ecc      inc      raan      argp         M  \\\n",
      "0          12  1.304418  0.166514  32.9039   45.4436  180.8056  178.9633   \n",
      "1          16  1.382645  0.202589  34.2706  279.0012  330.3423   19.5896   \n",
      "2          20  1.295722  0.166424  33.3391  187.3990   51.1381  322.6333   \n",
      "3          47  1.117461  0.022290  66.6668   68.6135  148.8539  212.6003   \n",
      "4          58  1.170848  0.016506  28.3260  117.2769  147.1491  213.9434   \n",
      "...       ...       ...       ...      ...       ...       ...       ...   \n",
      "4899    52139  1.071459  0.000154  53.2175  182.0098   49.6208  205.5672   \n",
      "4900    52140  1.056656  0.000150  53.2178  177.6187    3.1631   91.0036   \n",
      "4901    52150  1.092821  0.001393  97.8023  316.6473   82.2112  278.0687   \n",
      "4902    52157  1.100601  0.001489  97.9538  226.0483   88.0770  272.2145   \n",
      "4903    52197  1.067177  0.001171  53.0031  104.4257   88.4990  271.6088   \n",
      "\n",
      "             h     bstar                     epoch  \n",
      "0     1.126166  0.000332  2022-05-23T00:12:38.995Z  \n",
      "1     1.151477  0.000083  2022-05-23T10:23:35.623Z  \n",
      "2     1.122423  0.000292  2022-05-24T03:21:33.329Z  \n",
      "3     1.056838  0.000112  2022-05-23T20:26:16.445Z  \n",
      "4     1.081910  0.000024  2022-05-23T14:05:19.316Z  \n",
      "...        ...       ...                       ...  \n",
      "4899  1.035113 -0.021204  2022-05-23T22:00:02.000Z  \n",
      "4900  1.027938 -0.006656  2022-05-24T04:00:01.000Z  \n",
      "4901  1.045380  0.000248  2022-05-23T21:35:55.580Z  \n",
      "4902  1.049094  0.000266  2022-05-23T17:12:17.517Z  \n",
      "4903  1.033042  0.000100  2022-05-22T11:29:38.131Z  \n",
      "\n",
      "[4904 rows x 10 columns]\n"
     ]
    }
   ],
   "source": [
    "from orbdtools import TLE\n",
    "import numpy as np\n",
    "\n",
    "tle_file = 'test/tle_20220524.txt'\n",
    "epoch_obs = '2022-05-24T08:38:34.000Z' # Approximate epoch of the observed arc, which is optional\n",
    "tle = TLE.from_file(tle_file,epoch_obs) # Only TLEs within a week before and after the observation epoch are considered\n",
    "# tle = TLE.from_file(tle_file) # All TLEs are considered\n",
    "print(tle.range_epoch) # Epoch coverage for TLE files in format of [min, median, max]\n",
    "print(tle.df)"
   ]
  },
  {
   "cell_type": "markdown",
   "id": "8aa69e07-4bab-4eb3-ae2d-fa6c133ab4fb",
   "metadata": {},
   "source": [
    "#### Calculate the mean orbital elements in a certain epoch"
   ]
  },
  {
   "cell_type": "code",
   "execution_count": 8,
   "id": "07ffbb79-75f0-485a-8ee8-ef5e3ab64b37",
   "metadata": {},
   "outputs": [
    {
     "name": "stdout",
     "output_type": "stream",
     "text": [
      "      noradid         a       ecc      inc        raan        argp  \\\n",
      "0          12  1.304417  0.166513  32.9039   40.713117  187.915961   \n",
      "1          16  1.382645  0.202589  34.2706  276.324147  334.252270   \n",
      "2          20  1.295722  0.166424  33.3391  186.614059   52.307451   \n",
      "3          47  1.117461  0.022290  66.6668   67.253866  148.481221   \n",
      "4          58  1.170848  0.016506  28.3260  113.355804  153.550636   \n",
      "...       ...       ...       ...      ...         ...         ...   \n",
      "4899    52139  1.071776  0.000164  53.2175  179.932557   52.757111   \n",
      "4900    52140  1.056793  0.000151  53.2178  176.667040    6.313130   \n",
      "4901    52150  1.092820  0.001392  97.8023  317.102104   80.688465   \n",
      "4902    52157  1.100600  0.001489  97.9538  226.680457   86.009903   \n",
      "4903    52197  1.067168  0.001170  53.0031   95.438889   94.536045   \n",
      "\n",
      "               M         h     bstar                     epoch  \n",
      "0     347.523352  1.126166  0.000332  2022-05-24T08:38:34.000Z  \n",
      "1     279.966599  1.151477  0.000083  2022-05-24T08:38:34.000Z  \n",
      "2     158.957522  1.122423  0.000292  2022-05-24T08:38:34.000Z  \n",
      "3     333.117813  1.056837  0.000112  2022-05-24T08:38:34.000Z  \n",
      "4       0.943588  1.081910  0.000024  2022-05-24T08:38:34.000Z  \n",
      "...          ...       ...       ...                       ...  \n",
      "4899  136.530097  1.035266 -0.021204  2022-05-24T08:38:34.000Z  \n",
      "4900  101.146194  1.028004 -0.006656  2022-05-24T08:38:34.000Z  \n",
      "4901  227.963040  1.045379  0.000248  2022-05-24T08:38:34.000Z  \n",
      "4902   88.258639  1.049094  0.000266  2022-05-24T08:38:34.000Z  \n",
      "4903  302.296320  1.033038  0.000100  2022-05-24T08:38:34.000Z  \n",
      "\n",
      "[4904 rows x 10 columns]\n"
     ]
    }
   ],
   "source": [
    "tle_epoch = tle.atEpoch(epoch_obs)\n",
    "print(tle_epoch.df)"
   ]
  },
  {
   "cell_type": "markdown",
   "id": "c6b62c0c-6018-4926-8aea-14f33c2146c8",
   "metadata": {},
   "source": [
    "#### Orbital Propagation"
   ]
  },
  {
   "cell_type": "markdown",
   "id": "b6388ae5-a16b-415f-9347-4e81ea9a7a29",
   "metadata": {},
   "source": [
    "##### Calculate cartesian coordinates in GCRF(Geocentric Celetial Reference Frame) of space objects over a period of time"
   ]
  },
  {
   "cell_type": "code",
   "execution_count": 21,
   "id": "e6200954-bbeb-4afb-b617-e79178d40165",
   "metadata": {},
   "outputs": [
    {
     "name": "stdout",
     "output_type": "stream",
     "text": [
      "(4904, 10, 3)\n"
     ]
    }
   ],
   "source": [
    "t_list = ['2022-05-23T16:22:49.408Z', '2022-05-23T18:48:34.488Z',\n",
    "           '2022-05-23T18:09:35.640Z', '2022-05-23T20:54:20.228Z',\n",
    "           '2022-05-23T20:29:03.621Z', '2022-05-23T23:24:11.831Z',\n",
    "           '2022-05-24T00:38:08.803Z', '2022-05-24T02:33:32.466Z',\n",
    "           '2022-05-23T21:10:37.703Z', '2022-05-23T17:48:24.865Z']\n",
    "xyz_gcrf = tle.predict(t_list)\n",
    "print(xyz_gcrf.shape)"
   ]
  },
  {
   "cell_type": "markdown",
   "id": "14cf5e10-8f61-4bf5-8fdc-b6cc8d7fddb8",
   "metadata": {},
   "source": [
    "### Arc Associating"
   ]
  },
  {
   "cell_type": "markdown",
   "id": "21e2edb8-82ef-4c2a-a624-33c7a7e006b6",
   "metadata": {},
   "source": [
    "#### Match the observation arc based on optical angle measurement data to space objects in TLE file"
   ]
  },
  {
   "cell_type": "code",
   "execution_count": null,
   "id": "66fdda03-ba77-4b09-88b6-bb12ac0a1ec9",
   "metadata": {},
   "outputs": [],
   "source": [
    "from orbdtools import ArcObs\n",
    "import numpy as np\n",
    "\n",
    "obs_data = np.loadtxt('obs.dat',dtype=str,skiprows=1) # Load the observation file\n",
    "t = obs_data[:,0] # Obsevation time in UTC\n",
    "xyz_site = obs_data[:,1:4].astype(float) # Cartesian coordinates of site in GCRF, [km]\n",
    "radec = obs_data[:,4:6].astype(float) # Ra and Dec of space object, [deg]\n",
    "r = obs_data[:,6].astype(float) # Slant distance of the space object relative to the site\n",
    "\n",
    "arc = ArcObs({'t':t,'radec':radec,'xyz_site':pos_obs})\n",
    "arc.lowess_smooth()\n",
    "arc.arc_match(tle)"
   ]
  },
  {
   "cell_type": "markdown",
   "id": "07e4be4d-29e8-4f2f-9b3f-9764a1fd9c74",
   "metadata": {},
   "source": [
    "#### Match of observation arc based on radar measurement data(range+angle) to space objects in TLE file"
   ]
  },
  {
   "cell_type": "code",
   "execution_count": null,
   "id": "483a4bf2-5207-4ebf-936e-29d0556e2b05",
   "metadata": {},
   "outputs": [],
   "source": []
  }
 ],
 "metadata": {
  "kernelspec": {
   "display_name": "Python 3 (ipykernel)",
   "language": "python",
   "name": "python3"
  },
  "language_info": {
   "codemirror_mode": {
    "name": "ipython",
    "version": 3
   },
   "file_extension": ".py",
   "mimetype": "text/x-python",
   "name": "python",
   "nbconvert_exporter": "python",
   "pygments_lexer": "ipython3",
   "version": "3.9.16"
  }
 },
 "nbformat": 4,
 "nbformat_minor": 5
}
