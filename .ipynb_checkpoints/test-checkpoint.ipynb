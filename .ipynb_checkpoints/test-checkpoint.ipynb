{
 "cells": [
  {
   "cell_type": "code",
   "execution_count": null,
   "id": "d7fec236-0c2e-45dc-b6ff-ea09981c9597",
   "metadata": {},
   "outputs": [],
   "source": [
    "from odtools.targetmatch.target_matching import targetid_find2\n",
    "\n",
    "import time\n",
    "\n",
    "out_filename = 'tar1.sgtw'\n",
    "tle_file = 'tle_20220524.txt'\n",
    "\n",
    "t_start = time.time()\n",
    "status = targetid_find2(out_filename,tle_file,'optical')\n",
    "print(status)\n",
    "t_end = time.time()\n",
    "print('time used:',t_end-t_start)"
   ]
  },
  {
   "cell_type": "code",
   "execution_count": null,
   "id": "c291e2cb-84fa-4234-af0c-7c759fa545b9",
   "metadata": {},
   "outputs": [],
   "source": [
    "from odtools.targetmatch.target_matching import targetid_find1\n",
    "\n",
    "import time\n",
    "\n",
    "out_filename = 'tar1.sgtw'\n",
    "tle_file = 'tle_20220524.txt'\n",
    "\n",
    "t_start = time.time()\n",
    "status = targetid_find1(out_filename,tle_file,'optical')\n",
    "print(status)\n",
    "t_end = time.time()\n",
    "print('time used:',t_end-t_start)"
   ]
  },
  {
   "cell_type": "code",
   "execution_count": null,
   "id": "9366db77-8ca9-453a-b904-157933657e74",
   "metadata": {},
   "outputs": [],
   "source": [
    "from orbdtools import ArcObs"
   ]
  },
  {
   "cell_type": "markdown",
   "id": "4f79393b-6ba0-4f01-9623-48339860ad53",
   "metadata": {},
   "source": [
    "# optical"
   ]
  },
  {
   "cell_type": "code",
   "execution_count": 1,
   "id": "09895938-2363-4018-8c4e-2f03552b7006",
   "metadata": {},
   "outputs": [
    {
     "name": "stdout",
     "output_type": "stream",
     "text": [
      "EOP file 'finals2000A.all' in /Users/lichunxiao/src/eop-data/ is already the latest.\n"
     ]
    },
    {
     "ename": "NameError",
     "evalue": "name 'tle' is not defined",
     "output_type": "error",
     "traceback": [
      "\u001b[0;31m---------------------------------------------------------------------------\u001b[0m",
      "\u001b[0;31mNameError\u001b[0m                                 Traceback (most recent call last)",
      "\u001b[0;32m/var/folders/8n/l8nly1x93s1_zyy2rwk5g0zc0000gn/T/ipykernel_36125/2074538475.py\u001b[0m in \u001b[0;36m<module>\u001b[0;34m\u001b[0m\n\u001b[1;32m     11\u001b[0m \u001b[0marc\u001b[0m \u001b[0;34m=\u001b[0m \u001b[0mArcObs\u001b[0m\u001b[0;34m(\u001b[0m\u001b[0;34m{\u001b[0m\u001b[0;34m't'\u001b[0m\u001b[0;34m:\u001b[0m\u001b[0mt\u001b[0m\u001b[0;34m,\u001b[0m\u001b[0;34m'radec'\u001b[0m\u001b[0;34m:\u001b[0m\u001b[0mradec\u001b[0m\u001b[0;34m,\u001b[0m\u001b[0;34m'xyz_site'\u001b[0m\u001b[0;34m:\u001b[0m\u001b[0mpos_obs\u001b[0m\u001b[0;34m}\u001b[0m\u001b[0;34m)\u001b[0m\u001b[0;34m\u001b[0m\u001b[0;34m\u001b[0m\u001b[0m\n\u001b[1;32m     12\u001b[0m \u001b[0;31m#arc.lowess_smooth()\u001b[0m\u001b[0;34m\u001b[0m\u001b[0;34m\u001b[0m\u001b[0m\n\u001b[0;32m---> 13\u001b[0;31m \u001b[0marc\u001b[0m\u001b[0;34m.\u001b[0m\u001b[0marc_match\u001b[0m\u001b[0;34m(\u001b[0m\u001b[0mtle\u001b[0m\u001b[0;34m)\u001b[0m\u001b[0;34m\u001b[0m\u001b[0;34m\u001b[0m\u001b[0m\n\u001b[0m\u001b[1;32m     14\u001b[0m \u001b[0;34m\u001b[0m\u001b[0m\n\u001b[1;32m     15\u001b[0m \u001b[0mt_end\u001b[0m \u001b[0;34m=\u001b[0m \u001b[0mtime\u001b[0m\u001b[0;34m.\u001b[0m\u001b[0mtime\u001b[0m\u001b[0;34m(\u001b[0m\u001b[0;34m)\u001b[0m\u001b[0;34m\u001b[0m\u001b[0;34m\u001b[0m\u001b[0m\n",
      "\u001b[0;31mNameError\u001b[0m: name 'tle' is not defined"
     ]
    }
   ],
   "source": [
    "from orbdtools import ArcObs,TLE\n",
    "import numpy as np\n",
    "import time\n",
    "\n",
    "tle_file = 'tle_20220524.txt'\n",
    "epoch_obs = '2022-05-24T08:38:34.000Z'\n",
    "tle = TLE.from_file(tle_file,epoch_obs)\n",
    "\n",
    "t_start = time.time()\n",
    "sgtw = np.loadtxt('obs.dat',dtype=str,skiprows=1)\n",
    "t = sgtw[:,0]\n",
    "pos_obs = sgtw[:,1:4].astype(float)\n",
    "radec = sgtw[:,4:6].astype(float)\n",
    "\n",
    "arc = ArcObs({'t':t,'radec':radec,'xyz_site':pos_obs})\n",
    "#arc.lowess_smooth()\n",
    "arc.arc_match(tle)\n",
    "\n",
    "t_end = time.time()\n",
    "print('time used:',t_end-t_start)"
   ]
  },
  {
   "cell_type": "code",
   "execution_count": null,
   "id": "a75c5ed4-4d25-45b8-abf3-680cec87307e",
   "metadata": {},
   "outputs": [],
   "source": [
    "arc._radec_lowess.shape"
   ]
  },
  {
   "cell_type": "code",
   "execution_count": null,
   "id": "b2ad1514-3401-4c5b-bde9-ddabd49b02b3",
   "metadata": {},
   "outputs": [],
   "source": [
    "arc.lowess_smooth()"
   ]
  },
  {
   "cell_type": "code",
   "execution_count": null,
   "id": "350f6aea-717d-4561-8999-cd81273a7756",
   "metadata": {},
   "outputs": [],
   "source": [
    "arc.radec.shape"
   ]
  },
  {
   "cell_type": "markdown",
   "id": "c6056f0b-af44-4ae2-89d9-2d5d391b7d19",
   "metadata": {},
   "source": [
    "# radar"
   ]
  },
  {
   "cell_type": "code",
   "execution_count": null,
   "id": "fc3ff78e-c440-446e-9a87-b88b4f2ad3a7",
   "metadata": {},
   "outputs": [],
   "source": [
    "from orbdtools import ArcObs\n",
    "import numpy as np\n",
    "import time\n",
    "\n",
    "t_start = time.time()\n",
    "sbr = np.loadtxt('obs.dat',dtype=str,skiprows=1)\n",
    "t = sbr[:,0]\n",
    "pos_obs = sbr[:,1:4].astype(float)\n",
    "radec = sbr[:,4:6].astype(float)\n",
    "r = sbr[:,6].astype(float)\n",
    "\n",
    "tle_file = 'tle_20220524.txt'\n",
    "arc = ArcObs({'t':t,'radec':radec,'r':r,'xyz_site':pos_obs})\n",
    "#arc.lowess_smooth()\n",
    "#arc.arc_match(tle_file)\n",
    "\n",
    "t_end = time.time()\n",
    "print('time used:',t_end-t_start)\n"
   ]
  },
  {
   "cell_type": "code",
   "execution_count": null,
   "id": "5a81f548-ccdf-48db-9fbd-d653ede20806",
   "metadata": {},
   "outputs": [],
   "source": [
    "arc.xyz_site.shape"
   ]
  },
  {
   "cell_type": "code",
   "execution_count": null,
   "id": "c42632df-2f44-46bf-bae4-8f5e3658cd24",
   "metadata": {},
   "outputs": [],
   "source": [
    "arc._xyz_site_lowess.shape"
   ]
  },
  {
   "cell_type": "code",
   "execution_count": null,
   "id": "5b001882-eea1-4728-981e-703c02e84ecf",
   "metadata": {},
   "outputs": [],
   "source": [
    "arc.lowess_smooth()"
   ]
  },
  {
   "cell_type": "code",
   "execution_count": null,
   "id": "d1ec73fc-2683-49ef-ab68-5285e1be351b",
   "metadata": {},
   "outputs": [],
   "source": [
    "arc.xyz_site.shape"
   ]
  },
  {
   "cell_type": "code",
   "execution_count": null,
   "id": "02104c5e-a35f-4388-88d0-0da6367a8bf4",
   "metadata": {},
   "outputs": [],
   "source": [
    "arc._xyz_site_lowess.shape"
   ]
  },
  {
   "cell_type": "code",
   "execution_count": null,
   "id": "46a9893a-4ff3-4ffa-9b63-12326da69df2",
   "metadata": {},
   "outputs": [],
   "source": [
    "arc.xyz_site.shape"
   ]
  },
  {
   "cell_type": "code",
   "execution_count": null,
   "id": "5c4d7719-ccfd-421b-abbc-1e376bd416f3",
   "metadata": {},
   "outputs": [],
   "source": [
    "arc._xyz_site_lowess.shape"
   ]
  },
  {
   "cell_type": "code",
   "execution_count": null,
   "id": "48962190-a813-42ef-8e38-4e60be95a7e5",
   "metadata": {},
   "outputs": [],
   "source": []
  },
  {
   "cell_type": "code",
   "execution_count": null,
   "id": "e19c1162-0f3b-4fcb-9bb1-32135e119040",
   "metadata": {},
   "outputs": [],
   "source": []
  },
  {
   "cell_type": "code",
   "execution_count": null,
   "id": "8f9308a8-2beb-4a11-9801-3a45d93f05fe",
   "metadata": {},
   "outputs": [],
   "source": []
  },
  {
   "cell_type": "code",
   "execution_count": null,
   "id": "57cae89a-a83e-479d-ab1b-baa25f7fb43d",
   "metadata": {},
   "outputs": [],
   "source": []
  },
  {
   "cell_type": "code",
   "execution_count": null,
   "id": "b777f4d7-1967-437e-981e-bb4b066a2992",
   "metadata": {},
   "outputs": [],
   "source": [
    "from orbdtools.preprocessing import lowess_smooth_radar\n",
    "from astropy.time import Time\n",
    "ta = Time(t)\n",
    "t_,xyz,x,y,z,w_x,w_y,w_z = lowess_smooth_radar(ta,radec,r,frac=0.5)"
   ]
  },
  {
   "cell_type": "code",
   "execution_count": null,
   "id": "62a60c2a-830f-4f4d-bd93-1ebc22c6849b",
   "metadata": {},
   "outputs": [],
   "source": [
    "w_z"
   ]
  },
  {
   "cell_type": "code",
   "execution_count": null,
   "id": "d1b483fd-9bfa-4685-ac4a-597892a1c21f",
   "metadata": {},
   "outputs": [],
   "source": [
    "from numpy.linalg import norm"
   ]
  },
  {
   "cell_type": "code",
   "execution_count": null,
   "id": "47cb0706-f3d1-424a-8bc0-ce5e740cdde2",
   "metadata": {},
   "outputs": [],
   "source": [
    "np.sqrt(np.dot(xyz[:,0] - x,xyz[:,0] - x)/len(x))*3"
   ]
  },
  {
   "cell_type": "code",
   "execution_count": null,
   "id": "5a28d002-b203-4e96-9134-564edb1ed677",
   "metadata": {},
   "outputs": [],
   "source": [
    "xyz[:,1] - y"
   ]
  },
  {
   "cell_type": "code",
   "execution_count": null,
   "id": "e7473c60-c326-4e86-bb0f-81b3d08f544c",
   "metadata": {},
   "outputs": [],
   "source": [
    "xyz[:,2] - z"
   ]
  },
  {
   "cell_type": "code",
   "execution_count": null,
   "id": "2155bd62-4b77-4533-9489-c2f6505e2d98",
   "metadata": {},
   "outputs": [],
   "source": [
    "flag"
   ]
  },
  {
   "cell_type": "markdown",
   "id": "afb7cc30-9f8d-4f68-a93b-464a594c41cb",
   "metadata": {},
   "source": [
    "# Plot"
   ]
  },
  {
   "cell_type": "code",
   "execution_count": null,
   "id": "3a2668c9-f8e4-410f-a83d-48bdbc554bb6",
   "metadata": {},
   "outputs": [],
   "source": [
    "import matplotlib.pyplot as plt\n",
    "import numpy as np\n",
    "\n",
    "plt.style.use('_mpl-gallery')\n",
    "\n",
    "# plot\n",
    "fig, ax = plt.subplots(dpi=300)\n",
    "\n",
    "ax.plot(t_, xyz[:,2]-z, linewidth=1.0)\n",
    "#ax.plot(t_, r, linewidth=1.0)\n",
    "#ax.plot(t_, xyz[:,1], linewidth=1.0)\n",
    "#ax.plot(t_, xyz[:,2], linewidth=1.0)\n",
    "\n",
    "plt.show()"
   ]
  },
  {
   "cell_type": "code",
   "execution_count": null,
   "id": "135ba3a1-5f9c-4689-b0c5-8a4beb25da51",
   "metadata": {},
   "outputs": [],
   "source": [
    "vv = np.arange(48).reshape(3,16,1)"
   ]
  },
  {
   "cell_type": "code",
   "execution_count": null,
   "id": "98f15e49-85d3-4f8c-b540-b011856f509c",
   "metadata": {},
   "outputs": [],
   "source": [
    "vv"
   ]
  },
  {
   "cell_type": "code",
   "execution_count": null,
   "id": "abd7e403-8e34-4089-8af0-e02f8823e236",
   "metadata": {},
   "outputs": [],
   "source": [
    "from numpy.linalg import norm"
   ]
  },
  {
   "cell_type": "code",
   "execution_count": null,
   "id": "559a2de5-b2bd-4e5f-acaf-4d77e011539e",
   "metadata": {},
   "outputs": [],
   "source": [
    "norm(vv,axis=0)"
   ]
  },
  {
   "cell_type": "code",
   "execution_count": null,
   "id": "cd0089a2-3402-44f3-8d27-3b668d2722b0",
   "metadata": {},
   "outputs": [],
   "source": []
  },
  {
   "cell_type": "code",
   "execution_count": null,
   "id": "efc2841a-93da-433d-9c27-c4ea3798fe86",
   "metadata": {},
   "outputs": [],
   "source": [
    "gg = np.arange(10)"
   ]
  },
  {
   "cell_type": "code",
   "execution_count": null,
   "id": "2860f848-fbc1-44c3-b4dc-2956fc8f41f1",
   "metadata": {},
   "outputs": [],
   "source": [
    "gg - gg[:,None]"
   ]
  },
  {
   "cell_type": "code",
   "execution_count": null,
   "id": "326bb452-154a-4905-b212-d2c3487360d7",
   "metadata": {},
   "outputs": [],
   "source": [
    "gg"
   ]
  },
  {
   "cell_type": "code",
   "execution_count": null,
   "id": "06441714-24d6-4709-a3df-9f487e8b4a1a",
   "metadata": {},
   "outputs": [],
   "source": []
  },
  {
   "cell_type": "code",
   "execution_count": null,
   "id": "ddcfa682-5163-4db0-9287-e5ad35b72352",
   "metadata": {},
   "outputs": [],
   "source": [
    "arc.disp_match"
   ]
  },
  {
   "cell_type": "code",
   "execution_count": null,
   "id": "7007d316-41f5-4716-853f-487b8fae41fe",
   "metadata": {},
   "outputs": [],
   "source": [
    "hh = np.array([[False, True ,False]][0])"
   ]
  },
  {
   "cell_type": "code",
   "execution_count": null,
   "id": "e7f36893-df71-4934-9bf1-960ba7fdac1f",
   "metadata": {},
   "outputs": [],
   "source": [
    "uu = np.array([False, True ,True])"
   ]
  },
  {
   "cell_type": "code",
   "execution_count": null,
   "id": "1224a84e-cdbd-4cf5-a164-afe72b747420",
   "metadata": {},
   "outputs": [],
   "source": [
    "index, = np.where(hh & uu)"
   ]
  },
  {
   "cell_type": "code",
   "execution_count": null,
   "id": "426d26ec-4530-4ba4-b436-f785d07bf7ad",
   "metadata": {},
   "outputs": [],
   "source": [
    "index"
   ]
  },
  {
   "cell_type": "markdown",
   "id": "25bb36e0-f092-4fd8-9ff9-981e13d93d95",
   "metadata": {},
   "source": [
    "# 测试 pre"
   ]
  },
  {
   "cell_type": "code",
   "execution_count": null,
   "id": "18c96233-104d-4118-8242-099ede5bb53c",
   "metadata": {},
   "outputs": [],
   "source": [
    "import numpy as np\n",
    "sgtw = np.loadtxt('tar1.sgtw',dtype=str,skiprows=1)\n",
    "t = sgtw[:,0]\n",
    "pos_obs = sgtw[:,1:4].astype(float)\n",
    "radec = sgtw[:,4:6].astype(float)\n",
    "radec[2,0] = 220\n",
    "radec[2,1] = 46"
   ]
  },
  {
   "cell_type": "code",
   "execution_count": null,
   "id": "7fd465ff-744e-4674-90c8-320e13b1420d",
   "metadata": {},
   "outputs": [],
   "source": []
  },
  {
   "cell_type": "code",
   "execution_count": null,
   "id": "b1ac2b05-5764-4e7c-aafb-36781ef3256f",
   "metadata": {},
   "outputs": [],
   "source": []
  },
  {
   "cell_type": "code",
   "execution_count": null,
   "id": "b5c3d952-14fe-45ce-8c16-30f1e71088f5",
   "metadata": {},
   "outputs": [],
   "source": []
  },
  {
   "cell_type": "code",
   "execution_count": null,
   "id": "42393db9-bd93-424c-93a8-01a008730141",
   "metadata": {},
   "outputs": [],
   "source": [
    "\n"
   ]
  },
  {
   "cell_type": "code",
   "execution_count": null,
   "id": "ab5cbf9f-1546-476a-9893-dd8b5c531581",
   "metadata": {},
   "outputs": [],
   "source": [
    "from arcsatmatch.preprocessing import lowess_smooth_optical\n",
    "t_lowess,radec_lowess = lowess_smooth_optical(t,radec,n_sigma=3)"
   ]
  },
  {
   "cell_type": "code",
   "execution_count": null,
   "id": "a1b10b56-bfc4-4e0c-97db-f0662e7eb28d",
   "metadata": {},
   "outputs": [],
   "source": [
    "radec_lowess"
   ]
  },
  {
   "cell_type": "code",
   "execution_count": null,
   "id": "572ca2df-889f-485c-a6f3-42bcc3566712",
   "metadata": {},
   "outputs": [],
   "source": [
    "t_lowess.shape"
   ]
  },
  {
   "cell_type": "code",
   "execution_count": null,
   "id": "e1c6fc60-0b6d-4c07-8f9d-a21ef116cae3",
   "metadata": {},
   "outputs": [],
   "source": [
    "np.isclose(1e-10,0)"
   ]
  },
  {
   "cell_type": "code",
   "execution_count": null,
   "id": "7a2a31af-ae9c-432b-bf87-58dcecf97287",
   "metadata": {},
   "outputs": [],
   "source": [
    "from arcsatmatch.preprocessing import lowess_smooth"
   ]
  },
  {
   "cell_type": "code",
   "execution_count": null,
   "id": "37d8484e-6108-4d01-b4ab-5c4d7a52b936",
   "metadata": {},
   "outputs": [],
   "source": [
    "t_lowess,pos_obs_lowess,radec_lowess  = lowess_smooth(t,pos_obs,radec,dis=None,frac=0.2)"
   ]
  },
  {
   "cell_type": "code",
   "execution_count": null,
   "id": "d0a4ef24-ad50-4e07-a8b4-226960358b4b",
   "metadata": {},
   "outputs": [],
   "source": [
    "radec_lowess - radec"
   ]
  },
  {
   "cell_type": "code",
   "execution_count": null,
   "id": "4b00354f-9c66-4dee-ad8c-39b7ca75c6e9",
   "metadata": {},
   "outputs": [],
   "source": []
  },
  {
   "cell_type": "code",
   "execution_count": null,
   "id": "871252e5-9a9d-4923-af90-a63bab9a960e",
   "metadata": {},
   "outputs": [],
   "source": [
    "tle_file = 'tle_20220524_2.txt'"
   ]
  },
  {
   "cell_type": "code",
   "execution_count": null,
   "id": "bc454409-adbc-4041-b387-414cd1cd15c5",
   "metadata": {},
   "outputs": [],
   "source": [
    "from satmatch.optical import sat_match_optical\n",
    "findout_code,findout_satnum,status  = sat_match_optical(tle_file,t,pos_obs,radec)"
   ]
  },
  {
   "cell_type": "code",
   "execution_count": null,
   "id": "6751f8fe-c974-4a40-8b8c-1ad678afde65",
   "metadata": {},
   "outputs": [],
   "source": [
    "findout_code,findout_satnum,status"
   ]
  },
  {
   "cell_type": "code",
   "execution_count": null,
   "id": "fc2dc731-f573-4ff6-b5f4-3b36e9cfd23d",
   "metadata": {},
   "outputs": [],
   "source": []
  },
  {
   "cell_type": "code",
   "execution_count": null,
   "id": "b3204b48-2ea3-4737-9d23-3e5b81596b6d",
   "metadata": {},
   "outputs": [],
   "source": [
    "min(1,2)"
   ]
  },
  {
   "cell_type": "code",
   "execution_count": null,
   "id": "d858d3b5-95a3-4e30-8564-d131dfe2eee3",
   "metadata": {},
   "outputs": [],
   "source": []
  },
  {
   "cell_type": "code",
   "execution_count": null,
   "id": "74e4f8dd-a90d-4e94-865b-9dd7842bbaa8",
   "metadata": {},
   "outputs": [],
   "source": []
  },
  {
   "cell_type": "code",
   "execution_count": null,
   "id": "decda0e1-1407-49b4-9134-420e84a2d0dc",
   "metadata": {},
   "outputs": [],
   "source": []
  },
  {
   "cell_type": "code",
   "execution_count": null,
   "id": "98a12101-3b36-4acb-8ef7-f43ba90fc54f",
   "metadata": {},
   "outputs": [],
   "source": []
  },
  {
   "cell_type": "code",
   "execution_count": null,
   "id": "4e7f10a3-34b4-43cc-acb6-9c220230343d",
   "metadata": {},
   "outputs": [],
   "source": []
  },
  {
   "cell_type": "code",
   "execution_count": null,
   "id": "aba4e5ca-86a0-49f7-bc42-c7d9c77379d3",
   "metadata": {},
   "outputs": [],
   "source": []
  },
  {
   "cell_type": "code",
   "execution_count": null,
   "id": "6eba2566-e0f0-4e0b-b617-f515ad0c46a6",
   "metadata": {},
   "outputs": [],
   "source": []
  },
  {
   "cell_type": "markdown",
   "id": "6aa8d842-68a1-44b0-9a20-2708b0feb817",
   "metadata": {},
   "source": [
    "## 测试 deep"
   ]
  },
  {
   "cell_type": "code",
   "execution_count": null,
   "id": "e755207c-2656-4efc-acc4-5970e809a0e0",
   "metadata": {},
   "outputs": [],
   "source": [
    "from arcsatmatch.parse_tle import load_tle_file\n",
    "tle_file = 'tle_20220524_2.txt'\n",
    "sats_list = load_tle_file(tle_file)"
   ]
  },
  {
   "cell_type": "code",
   "execution_count": null,
   "id": "6442a499-70a4-4b5d-bb75-5a3ef36279dd",
   "metadata": {},
   "outputs": [],
   "source": [
    "sats_list"
   ]
  },
  {
   "cell_type": "code",
   "execution_count": null,
   "id": "8a581633-836a-43b2-b3e5-1b9937a4c62a",
   "metadata": {},
   "outputs": [],
   "source": [
    "from sgp4.api import SatrecArray\n",
    "import numpy as np\n",
    "from astropy.time import Time"
   ]
  },
  {
   "cell_type": "code",
   "execution_count": null,
   "id": "f25aa60d-a804-4aa2-804f-d377f3321e9e",
   "metadata": {},
   "outputs": [],
   "source": [
    "from arcsatmatch.common import get_mid_point,gcrf_teme_mat\n",
    "\n",
    "ta = Time(t)\n",
    "sats_array = SatrecArray(sats_list)  \n",
    "e, xyz_teme, vxyz_teme = sats_array.sgp4(ta.jd1,ta.jd2)\n",
    "gcrf2teme_mat,teme2gcrf_mat = gcrf_teme_mat(ta)\n",
    "xyz_gcrf = (teme2gcrf_mat @ xyz_teme.transpose(1,2,0)).transpose(2,0,1) \n",
    "obs_sat_xyz = (xyz_gcrf - pos_obs).T"
   ]
  },
  {
   "cell_type": "code",
   "execution_count": null,
   "id": "d6561cb1-b374-4fc8-9ac2-9e4d96fc1757",
   "metadata": {},
   "outputs": [],
   "source": [
    "obs_sat_x,obs_sat_y,obs_sat_z = obs_sat_xyz"
   ]
  },
  {
   "cell_type": "code",
   "execution_count": null,
   "id": "69b4d452-ff7f-44f5-9e3f-a975c1cd8994",
   "metadata": {},
   "outputs": [],
   "source": [
    "from astropy.coordinates import SkyCoord\n",
    "c1 = SkyCoord(obs_sat_x,obs_sat_y,obs_sat_z, unit='km', frame='icrs',representation_type='cartesian')"
   ]
  },
  {
   "cell_type": "code",
   "execution_count": null,
   "id": "b5c6bedb-0173-44d9-8059-efa32406d26c",
   "metadata": {},
   "outputs": [],
   "source": [
    "c1"
   ]
  },
  {
   "cell_type": "code",
   "execution_count": null,
   "id": "df4ecd23-2e80-423b-be12-438f10fba474",
   "metadata": {},
   "outputs": [],
   "source": [
    "c2 = SkyCoord(radec, frame='icrs',unit='deg')"
   ]
  },
  {
   "cell_type": "code",
   "execution_count": null,
   "id": "5c953d11-e8df-4288-98f9-7b40751e6868",
   "metadata": {},
   "outputs": [],
   "source": [
    "c2[:,None]"
   ]
  },
  {
   "cell_type": "code",
   "execution_count": null,
   "id": "b3e87ba8-beac-45db-9cf2-d85a5f71213a",
   "metadata": {},
   "outputs": [],
   "source": [
    "c1"
   ]
  },
  {
   "cell_type": "code",
   "execution_count": null,
   "id": "3f740c28-6dbe-4aec-bb23-6e731cd4550f",
   "metadata": {},
   "outputs": [],
   "source": [
    "sep = c1.separation(c2[:,None]).arcsec"
   ]
  },
  {
   "cell_type": "code",
   "execution_count": null,
   "id": "205246b4-b65f-4211-b3d6-a9a4ed455466",
   "metadata": {},
   "outputs": [],
   "source": [
    "sep0 = sep[:,0]"
   ]
  },
  {
   "cell_type": "code",
   "execution_count": null,
   "id": "3e4def1f-4b0c-4096-8a21-d36dd40e3a82",
   "metadata": {},
   "outputs": [],
   "source": []
  },
  {
   "cell_type": "code",
   "execution_count": null,
   "id": "19738325-ed7d-4ee4-b90c-f96844079ff4",
   "metadata": {},
   "outputs": [],
   "source": [
    "import numpy as np\n",
    "import matplotlib.pyplot as plt\n",
    "from matplotlib import patheffects\n",
    "\n",
    "# Plot a straight diagonal line with ticked style path\n",
    "fig, ax = plt.subplots(dpi=200)\n",
    "\n",
    "# Plot a curved line with ticked style path\n",
    "nx = 101\n",
    "x = np.arange(18)\n",
    "y = sep[:,0]\n",
    "ax.plot(x, y, label=\"Curve\")\n",
    "\n",
    "ax.legend()\n",
    "\n",
    "plt.show()"
   ]
  },
  {
   "cell_type": "code",
   "execution_count": null,
   "id": "0781116f-d99f-4d89-9046-da82ee27a3cc",
   "metadata": {},
   "outputs": [],
   "source": [
    "from scipy.optimize import least_squares\n",
    "\n",
    "def func(a, x, y):\n",
    "    print(a[:,0] + a[:,1]*x[:,None] - y)\n",
    "    return a[:,0] + a[:,1]*x[:,None] - y\n",
    "\n",
    "# initial guess for parameters\n",
    "a_0 = np.ones([4,2])\n",
    "\n",
    "res_robust = least_squares(func, a_0, loss='huber',args=(x, y)) # loss='soft_l1'\n",
    "\n",
    "print(res_robust.x)"
   ]
  },
  {
   "cell_type": "code",
   "execution_count": null,
   "id": "d46c21a9-1211-4a92-a309-a34e407fc49d",
   "metadata": {},
   "outputs": [],
   "source": [
    "from scipy.optimize import least_squares\n",
    "\n",
    "def func(a, x, y):\n",
    "    return a[0] + a[1]*x - y\n",
    "\n",
    "# initial guess for parameters\n",
    "a_0 = np.ones(2)\n",
    "\n",
    "res_robust1 = least_squares(func, a_0,loss='huber',args=(x, y)) # loss='huber'\n",
    "res_robust2 = least_squares(func, a_0,args=(x, y)) # loss='huber'\n",
    "\n",
    "print(res_robust1.x)\n",
    "print(res_robust2.x)\n"
   ]
  },
  {
   "cell_type": "code",
   "execution_count": null,
   "id": "20617603-3499-406b-880e-af551806f1df",
   "metadata": {},
   "outputs": [],
   "source": [
    "[ 3.15530727e+05 -2.85235876e+02]"
   ]
  },
  {
   "cell_type": "code",
   "execution_count": null,
   "id": "75c789ee-7903-43e2-b695-29cd074d3f90",
   "metadata": {},
   "outputs": [],
   "source": [
    "x = (ta - ta[0]).sec"
   ]
  },
  {
   "cell_type": "code",
   "execution_count": null,
   "id": "7ac28ecd-b0ce-45b0-8afc-18984bcf58b5",
   "metadata": {},
   "outputs": [],
   "source": []
  },
  {
   "cell_type": "code",
   "execution_count": null,
   "id": "127682e5-5a7c-4319-8684-8113938314a2",
   "metadata": {},
   "outputs": [],
   "source": [
    "x = (ta.mjd  - ta.mjd.mean())*86400\n",
    "A = np.vstack([x, np.ones(len(x))]).T"
   ]
  },
  {
   "cell_type": "code",
   "execution_count": null,
   "id": "6df68be4-5405-4d39-b2e8-771c0a9221ea",
   "metadata": {},
   "outputs": [],
   "source": [
    "A.shape"
   ]
  },
  {
   "cell_type": "code",
   "execution_count": null,
   "id": "58cf065e-73c6-4991-a60f-f22718f9acb9",
   "metadata": {},
   "outputs": [],
   "source": [
    "from numpy.linalg import lstsq\n",
    "lstsq(A, sep,rcond=None)[0][0]"
   ]
  },
  {
   "cell_type": "code",
   "execution_count": null,
   "id": "b5d5f9e4-f2dc-4084-8823-947365cea212",
   "metadata": {},
   "outputs": [],
   "source": [
    "xx"
   ]
  },
  {
   "cell_type": "code",
   "execution_count": null,
   "id": "15c145fd-e0df-455d-adab-809cb5cd358c",
   "metadata": {},
   "outputs": [],
   "source": [
    "residual"
   ]
  },
  {
   "cell_type": "code",
   "execution_count": null,
   "id": "a53948f3-83f6-4374-8cbe-2c1513e30bd9",
   "metadata": {},
   "outputs": [],
   "source": [
    "# calculate the fitted y values using the estimated parameters\n",
    "y_fit = func(res_robust.x,x,y) + y"
   ]
  },
  {
   "cell_type": "code",
   "execution_count": null,
   "id": "287566d2-9845-4559-8253-b9a48242ed71",
   "metadata": {},
   "outputs": [],
   "source": [
    "y_fit"
   ]
  },
  {
   "cell_type": "code",
   "execution_count": null,
   "id": "d8a5531f-4048-4d57-8556-3855de3e8eca",
   "metadata": {},
   "outputs": [],
   "source": [
    "import numpy as np\n",
    "import matplotlib.pyplot as plt\n",
    "from matplotlib import patheffects\n",
    "\n",
    "# Plot a straight diagonal line with ticked style path\n",
    "fig, ax = plt.subplots(dpi=200)\n",
    "\n",
    "# Plot a curved line with ticked style path\n",
    "x = np.arange(18)\n",
    "y = sep0\n",
    "ax.plot(x, y, label=\"Curve\")\n",
    "ax.plot(x, y_fit)\n",
    "\n",
    "ax.legend()\n",
    "\n",
    "plt.show()"
   ]
  },
  {
   "cell_type": "markdown",
   "id": "df1fac14-d624-4b73-84b7-0811f661c72d",
   "metadata": {},
   "source": [
    "## ransac"
   ]
  },
  {
   "cell_type": "code",
   "execution_count": null,
   "id": "f6d51ffa-6282-4350-9052-1c51af8378cb",
   "metadata": {},
   "outputs": [],
   "source": [
    "import numpy as np\n",
    "from matplotlib import pyplot as plt\n",
    "\n",
    "from sklearn import datasets, linear_model"
   ]
  },
  {
   "cell_type": "code",
   "execution_count": null,
   "id": "ca53414e-4fb5-4ef1-ac80-6290f462ebdc",
   "metadata": {},
   "outputs": [],
   "source": [
    "x[:,None]"
   ]
  },
  {
   "cell_type": "code",
   "execution_count": null,
   "id": "809691b8-d925-447b-a099-9bb02fb373c6",
   "metadata": {},
   "outputs": [],
   "source": [
    "# Robustly fit linear model with RANSAC algorithm\n",
    "ransac = linear_model.RANSACRegressor()\n",
    "ransac.fit(x[:,None], y)\n",
    "inlier_mask = ransac.inlier_mask_\n",
    "outlier_mask = np.logical_not(inlier_mask)"
   ]
  },
  {
   "cell_type": "code",
   "execution_count": null,
   "id": "5fc68e01-800c-4a15-989c-50fb67b568a9",
   "metadata": {},
   "outputs": [],
   "source": [
    "outlier_mask"
   ]
  },
  {
   "cell_type": "code",
   "execution_count": null,
   "id": "64c840ec-3d39-4ace-910e-24a2ae40a009",
   "metadata": {},
   "outputs": [],
   "source": [
    "# Predict data of estimated models\n",
    "line_y_ransac = ransac.predict(x[:,None])"
   ]
  },
  {
   "cell_type": "code",
   "execution_count": null,
   "id": "0ba42f5f-b2ab-4997-998d-a94696496e72",
   "metadata": {},
   "outputs": [],
   "source": [
    "line_y_ransac"
   ]
  },
  {
   "cell_type": "code",
   "execution_count": null,
   "id": "7fdeb00f-ccea-4c45-825b-f1ee3590e219",
   "metadata": {},
   "outputs": [],
   "source": [
    "y_res = y[inlier_mask]"
   ]
  },
  {
   "cell_type": "code",
   "execution_count": null,
   "id": "1e7afd91-e02c-4735-9955-3f7b2f19a764",
   "metadata": {},
   "outputs": [],
   "source": [
    "from numpy.linalg import norm\n",
    "norm(y_res/np.sqrt(len(y_res)))"
   ]
  },
  {
   "cell_type": "code",
   "execution_count": null,
   "id": "80ef9e74-99bb-4c8b-8630-a2ae62160063",
   "metadata": {},
   "outputs": [],
   "source": []
  },
  {
   "cell_type": "code",
   "execution_count": null,
   "id": "3c4580b4-3e93-40fb-a6ab-01c2cfc95176",
   "metadata": {},
   "outputs": [],
   "source": [
    "import numpy as np\n",
    "import matplotlib.pyplot as plt\n",
    "from matplotlib import patheffects\n",
    "\n",
    "# Plot a straight diagonal line with ticked style path\n",
    "fig, ax = plt.subplots(dpi=200)\n",
    "\n",
    "# Plot a curved line with ticked style path\n",
    "nx = 101\n",
    "x = np.arange(18)\n",
    "y = sep0\n",
    "ax.plot(x, y, label=\"Curve\")\n",
    "ax.plot(x, y_fit, label=\"softl1\")\n",
    "ax.plot(x, line_y_ransac,label=\"ransac\")\n",
    "\n",
    "ax.legend()\n",
    "\n",
    "plt.show()"
   ]
  },
  {
   "cell_type": "code",
   "execution_count": null,
   "id": "6099bdf9-bfbb-4bd1-addf-bd494cb9304a",
   "metadata": {},
   "outputs": [],
   "source": []
  },
  {
   "cell_type": "code",
   "execution_count": null,
   "id": "983fd325-2de6-4c79-913d-db5fad9a3bf8",
   "metadata": {},
   "outputs": [],
   "source": []
  },
  {
   "cell_type": "code",
   "execution_count": null,
   "id": "12bfebcf-561b-4c7d-b83b-95a1b90c0bca",
   "metadata": {},
   "outputs": [],
   "source": []
  },
  {
   "cell_type": "code",
   "execution_count": null,
   "id": "84d414d1-c33f-4801-a68c-d8e480e18ebd",
   "metadata": {},
   "outputs": [],
   "source": [
    "from numpy.linalg import norm\n",
    "norm(sep,axis=0)"
   ]
  },
  {
   "cell_type": "code",
   "execution_count": null,
   "id": "2f8f2461-09e5-4656-9ca8-0df1ba0abc35",
   "metadata": {},
   "outputs": [],
   "source": [
    "sep_rms = norm(sep,axis=0)/np.sqrt(len(sep))"
   ]
  },
  {
   "cell_type": "code",
   "execution_count": null,
   "id": "df314133-c758-4d48-afa7-f2150f52e9ad",
   "metadata": {},
   "outputs": [],
   "source": [
    "sep_rms"
   ]
  },
  {
   "cell_type": "code",
   "execution_count": null,
   "id": "0724c266-deff-4386-bd69-77e3831af30a",
   "metadata": {},
   "outputs": [],
   "source": [
    "index, = np.where(sep_rms < 200)\n",
    "sats_list_filter = [sats_list[i] for i in index]"
   ]
  },
  {
   "cell_type": "code",
   "execution_count": null,
   "id": "799c08e0-04d1-430f-a2a1-2e1a55baac7e",
   "metadata": {},
   "outputs": [],
   "source": [
    "type(sats_list_filter[0].satnum)"
   ]
  },
  {
   "cell_type": "code",
   "execution_count": null,
   "id": "d26410c8-bbaf-49a9-ae0d-e478d86b938a",
   "metadata": {},
   "outputs": [],
   "source": [
    "ss.shape"
   ]
  },
  {
   "cell_type": "markdown",
   "id": "9687e538-ddcb-4e69-8a42-1a6912f49724",
   "metadata": {},
   "source": [
    "## 测试 3"
   ]
  },
  {
   "cell_type": "code",
   "execution_count": null,
   "id": "4d158776-4f2a-4921-964e-b10160dd4d34",
   "metadata": {},
   "outputs": [],
   "source": [
    "from satmatch.optical import sat_match_optical\n",
    "sats_list = load_tle_file(tle_file)"
   ]
  },
  {
   "cell_type": "code",
   "execution_count": null,
   "id": "7ef430fb-0dc4-4f6e-987b-79aa38534e3c",
   "metadata": {},
   "outputs": [],
   "source": []
  },
  {
   "cell_type": "code",
   "execution_count": null,
   "id": "29e1f0b9-75cb-43ae-b6e2-29d4a1fba1a9",
   "metadata": {},
   "outputs": [],
   "source": []
  },
  {
   "cell_type": "code",
   "execution_count": null,
   "id": "fd152090-cc59-449b-8514-891a247bbb02",
   "metadata": {},
   "outputs": [],
   "source": []
  },
  {
   "cell_type": "code",
   "execution_count": null,
   "id": "8fd7ebc8-f4cb-4d68-b97e-c748fb16d637",
   "metadata": {},
   "outputs": [],
   "source": [
    "from satmatch.optical import sat_match_optical\n",
    "tle_file = 'tle_20220524_2.txt'\n",
    "sats_list_filter   = sat_match_optical(tle_file,t,xyz,radec)"
   ]
  },
  {
   "cell_type": "code",
   "execution_count": null,
   "id": "17db15aa-fcaa-437e-9d4f-f44e025b9301",
   "metadata": {},
   "outputs": [],
   "source": [
    "sats_list_filter[0].satnum"
   ]
  },
  {
   "cell_type": "code",
   "execution_count": null,
   "id": "009db3de-7aff-435f-a0ea-670fea9eefcf",
   "metadata": {},
   "outputs": [],
   "source": [
    "hh = [1,2,3]\n",
    "gg = np.array([1,2,4])\n",
    "ii = np.where(gg<2)"
   ]
  },
  {
   "cell_type": "code",
   "execution_count": null,
   "id": "c24e223d-5cd7-4373-8702-f7ce87f663ef",
   "metadata": {},
   "outputs": [],
   "source": [
    "property_asel = [hh[i] for i in ii]"
   ]
  },
  {
   "cell_type": "code",
   "execution_count": null,
   "id": "a40cda4e-8f87-4648-ab45-6eca6ce1621e",
   "metadata": {},
   "outputs": [],
   "source": [
    "property_asel"
   ]
  },
  {
   "cell_type": "code",
   "execution_count": null,
   "id": "0c6e5e44-bf8b-4bb9-b4de-42a713d9e840",
   "metadata": {},
   "outputs": [],
   "source": [
    "ii"
   ]
  },
  {
   "cell_type": "code",
   "execution_count": null,
   "id": "4f6d72b8-4100-4b81-9b78-5fd7161649bf",
   "metadata": {},
   "outputs": [],
   "source": [
    "cc = np.array([[[-5871.83467755 ,-3712.2344948  ,  648.18915877]],[[-6260.59011727 , 4950.25291311, -3866.77815511]],[[ 3664.86929256, -2431.39296477, -5428.58469144]],[[ 4757.72855878 , 5127.25807702  , 649.42438264]]]) - np.array([-5171.1967,  -2292.71502 , 4073.94583])"
   ]
  },
  {
   "cell_type": "code",
   "execution_count": null,
   "id": "f0e494c6-e3e6-4a6e-b520-3147df984729",
   "metadata": {},
   "outputs": [],
   "source": [
    "a,b,c = cc.T"
   ]
  },
  {
   "cell_type": "code",
   "execution_count": null,
   "id": "c93c6d8a-9e70-4994-b267-9c8cb56dfee9",
   "metadata": {},
   "outputs": [],
   "source": [
    "b"
   ]
  },
  {
   "cell_type": "code",
   "execution_count": null,
   "id": "32488185-a826-4d79-a0b7-490360fe5325",
   "metadata": {},
   "outputs": [],
   "source": [
    "c"
   ]
  },
  {
   "cell_type": "code",
   "execution_count": null,
   "id": "7b39d023-dd06-4ed5-9d46-f518bb4c464f",
   "metadata": {},
   "outputs": [],
   "source": [
    "from astropy.coordinates import SkyCoord\n",
    "c1 = SkyCoord(a,b,c, unit='km', frame='icrs',representation_type='cartesian')"
   ]
  },
  {
   "cell_type": "code",
   "execution_count": null,
   "id": "006966bf-b9f6-4d9c-b3e3-611bb9c157e7",
   "metadata": {},
   "outputs": [],
   "source": [
    "c2 = SkyCoord([[10,20]],frame='icrs',unit='deg')"
   ]
  },
  {
   "cell_type": "code",
   "execution_count": null,
   "id": "bbca699d-0716-475c-96ec-8fc7304c7ca0",
   "metadata": {},
   "outputs": [],
   "source": [
    "c2"
   ]
  },
  {
   "cell_type": "code",
   "execution_count": null,
   "id": "680bc2c5-b591-4eaa-8f8e-0c32bbbb018d",
   "metadata": {},
   "outputs": [],
   "source": [
    "from astropy.coordinates import SkyCoord\n",
    "c1 = SkyCoord(cc.T, unit='km', frame='icrs',representation_type='cartesian')"
   ]
  },
  {
   "cell_type": "code",
   "execution_count": null,
   "id": "3692db9d-56ed-4980-ac97-919224ecd751",
   "metadata": {},
   "outputs": [],
   "source": [
    "c1"
   ]
  },
  {
   "cell_type": "code",
   "execution_count": null,
   "id": "d9861119-fae4-4f9d-9089-c6edc0b7c4f3",
   "metadata": {},
   "outputs": [],
   "source": [
    "from satmatch.parse_tle import load_tle_file\n",
    "\n",
    "# load TLE data\n",
    "tle_file = 'tle_20220524.txt'\n",
    "satrec_array = load_tle_file(tle_file)\n"
   ]
  },
  {
   "cell_type": "code",
   "execution_count": null,
   "id": "867ec780-507f-4d81-b8e7-8a3b3e9b51a6",
   "metadata": {},
   "outputs": [],
   "source": [
    "satrec_array."
   ]
  },
  {
   "cell_type": "code",
   "execution_count": null,
   "id": "2cf35ba1-d784-43a8-a8cd-55c60b2a3daf",
   "metadata": {},
   "outputs": [],
   "source": []
  },
  {
   "cell_type": "code",
   "execution_count": null,
   "id": "bef051ce-98a7-469b-b58f-2eff779f9a22",
   "metadata": {},
   "outputs": [],
   "source": []
  },
  {
   "cell_type": "code",
   "execution_count": null,
   "id": "c0266f72-6884-43cf-9de4-5c933a8af40e",
   "metadata": {},
   "outputs": [],
   "source": []
  },
  {
   "cell_type": "code",
   "execution_count": null,
   "id": "8d6d83d3-ea5c-4a8f-a3cc-d29cdee1bc4d",
   "metadata": {},
   "outputs": [],
   "source": [
    "import numpy as np\n",
    "\n",
    "def get_mid_point(t,*args):\n",
    "    '''\n",
    "    Extract n uniformly distributed points from the arc as much as possible.\n",
    "    '''\n",
    "\n",
    "    tof = t[-1] - t[0]\n",
    "    indices = np.zeros(3,dtype=int)\n",
    "\n",
    "    mt = t[0] + tof/2 # node moment of arc\n",
    "    mi = np.argmin(np.abs(t - mt)) # index corresponding to node moment\n",
    "\n",
    "    out = [t[mi]]       \n",
    "\n",
    "    for cont in args:\n",
    "        out.append(cont[mi])    \n",
    "\n",
    "    return out "
   ]
  },
  {
   "cell_type": "code",
   "execution_count": null,
   "id": "bad97eb5-fe45-44b5-a08b-9a0dae72808d",
   "metadata": {},
   "outputs": [],
   "source": [
    "from astropy.time import Time\n",
    "ta = Time(t)"
   ]
  },
  {
   "cell_type": "code",
   "execution_count": null,
   "id": "e535ddf4-388b-40ab-b0b1-f830ff8da586",
   "metadata": {},
   "outputs": [],
   "source": [
    "get_mid_point(tss,radec)"
   ]
  },
  {
   "cell_type": "code",
   "execution_count": null,
   "id": "49489746-9710-47b6-8b4b-5e58e556b3aa",
   "metadata": {},
   "outputs": [],
   "source": [
    "from skyfield.api import load"
   ]
  },
  {
   "cell_type": "code",
   "execution_count": null,
   "id": "1be981ed-93c3-4ecd-9539-3050da27e135",
   "metadata": {},
   "outputs": [],
   "source": [
    "ts = load.timescale()"
   ]
  },
  {
   "cell_type": "code",
   "execution_count": null,
   "id": "1b0c1a76-edc5-4456-be23-839560e5cd59",
   "metadata": {},
   "outputs": [],
   "source": [
    "tss = ts.from_astropy(ta)"
   ]
  },
  {
   "cell_type": "code",
   "execution_count": null,
   "id": "dea40964-7228-42de-940f-9b0c49072112",
   "metadata": {},
   "outputs": [],
   "source": [
    "radec"
   ]
  },
  {
   "cell_type": "code",
   "execution_count": null,
   "id": "cab60754-7e0a-45b2-910a-cca0198755ba",
   "metadata": {},
   "outputs": [],
   "source": [
    "tss."
   ]
  },
  {
   "cell_type": "markdown",
   "id": "20a209b1-f1e8-466f-a476-c26091c06def",
   "metadata": {},
   "source": [
    "### test"
   ]
  },
  {
   "cell_type": "code",
   "execution_count": null,
   "id": "43de9ab3-45f1-45f6-85df-f95c6ce3fbe6",
   "metadata": {},
   "outputs": [],
   "source": [
    "from astropy.coordinates import spherical_to_cartesian"
   ]
  },
  {
   "cell_type": "code",
   "execution_count": null,
   "id": "d7acf16e-2fb7-4c0b-9b5f-cea56368712d",
   "metadata": {},
   "outputs": [],
   "source": [
    "spherical_to_cartesian?"
   ]
  },
  {
   "cell_type": "code",
   "execution_count": null,
   "id": "cb6fb46b-da8d-4013-8229-44ccb16640be",
   "metadata": {},
   "outputs": [],
   "source": [
    "import numpy as np\n",
    "import pylab\n",
    "import seaborn as sns\n",
    "import statsmodels.api as sm\n",
    "\n",
    "sns.set_style(\"darkgrid\")\n",
    "pylab.rc(\"figure\", figsize=(16, 8))\n",
    "pylab.rc(\"font\", size=14)\n"
   ]
  },
  {
   "cell_type": "code",
   "execution_count": null,
   "id": "705d3766-4059-45a4-b7f2-91d311a2cfcf",
   "metadata": {},
   "outputs": [],
   "source": [
    "# Seed for consistency\n",
    "np.random.seed(1)\n"
   ]
  },
  {
   "cell_type": "code",
   "execution_count": null,
   "id": "f2f223b9-f132-45e4-b450-114423badb01",
   "metadata": {},
   "outputs": [],
   "source": [
    "# Generate data looking like cosine\n",
    "x = np.random.uniform(0, 4 * np.pi, size=200)\n",
    "#x = np.sort(x)\n",
    "y = 2*x + np.random.random(size=len(x))*5\n",
    "\n",
    "y[100] = 50\n",
    "y[50:55] = 33\n",
    "lowess = sm.nonparametric.lowess\n",
    "# Compute a lowess smoothing of the data\n",
    "smoothed = lowess(y, x, frac=0.2,return_sorted=False)\n"
   ]
  },
  {
   "cell_type": "code",
   "execution_count": null,
   "id": "2a18ea19-8447-4348-9d7c-c48022ff6cd0",
   "metadata": {},
   "outputs": [],
   "source": [
    "xout1, yout1, weights1 = loess_1d(x, y)"
   ]
  },
  {
   "cell_type": "code",
   "execution_count": null,
   "id": "a8f49efa-4184-485c-afbc-a25ab4b60735",
   "metadata": {},
   "outputs": [],
   "source": [
    "weights1"
   ]
  },
  {
   "cell_type": "code",
   "execution_count": null,
   "id": "44e543c0-e6ab-4351-b1c6-f9b4b9d60bd6",
   "metadata": {},
   "outputs": [],
   "source": []
  },
  {
   "cell_type": "code",
   "execution_count": null,
   "id": "fd2c7efe-882f-403f-86c0-f4eb556069d8",
   "metadata": {},
   "outputs": [],
   "source": [
    "# Plot the fit line\n",
    "fig, ax = pylab.subplots()\n",
    "\n",
    "ax.scatter(x, y)\n",
    "ax.plot(x, smoothed, c=\"k\")\n",
    "pylab.autoscale(enable=True, axis=\"x\", tight=True)\n",
    "\n"
   ]
  },
  {
   "cell_type": "code",
   "execution_count": null,
   "id": "72279550-b32a-4339-b1e6-cd96717a2c9d",
   "metadata": {},
   "outputs": [],
   "source": [
    "std = np.nanstd(smoothed - y)"
   ]
  },
  {
   "cell_type": "code",
   "execution_count": null,
   "id": "42c024ca-582f-4642-bb3e-e4fa5f00c33d",
   "metadata": {},
   "outputs": [],
   "source": [
    "std"
   ]
  },
  {
   "cell_type": "code",
   "execution_count": null,
   "id": "91d3a974-f95a-47b1-853c-b3b95d3d1b5d",
   "metadata": {},
   "outputs": [],
   "source": [
    "sigma = np.sqrt(np.dot(smoothed - y,smoothed - y)/len(y))\n"
   ]
  },
  {
   "cell_type": "code",
   "execution_count": null,
   "id": "7289a69f-9bb4-4a66-be09-feed14254d71",
   "metadata": {},
   "outputs": [],
   "source": [
    "from numpy.linalg import norm"
   ]
  },
  {
   "cell_type": "code",
   "execution_count": null,
   "id": "49995970-6c26-4cfb-ae1f-931a37a98827",
   "metadata": {},
   "outputs": [],
   "source": [
    "norm(smoothed - y)"
   ]
  },
  {
   "cell_type": "code",
   "execution_count": null,
   "id": "71cead85-e01a-4643-bd6b-69cae38690b3",
   "metadata": {},
   "outputs": [],
   "source": [
    "flag = np.abs(smoothed - y) < sigma * 3"
   ]
  },
  {
   "cell_type": "code",
   "execution_count": null,
   "id": "633c46af-8b0f-4165-8d32-9f42b9454b60",
   "metadata": {},
   "outputs": [],
   "source": [
    "flag.sum()"
   ]
  },
  {
   "cell_type": "code",
   "execution_count": null,
   "id": "608a5010-5359-4e6c-ab25-937df259ac30",
   "metadata": {},
   "outputs": [],
   "source": []
  },
  {
   "cell_type": "code",
   "execution_count": null,
   "id": "1dbb0201-ceb0-4121-a0b2-f1db6ed76eda",
   "metadata": {},
   "outputs": [],
   "source": []
  },
  {
   "cell_type": "code",
   "execution_count": null,
   "id": "fadd4593-e8db-4c24-bda0-1e147de68835",
   "metadata": {},
   "outputs": [],
   "source": [
    "# Plot the confidence interval and fit\n",
    "fig, ax = pylab.subplots()\n",
    "ax.scatter(x, y)\n",
    "ax.plot(eval_x, smoothed, c=\"k\")\n",
    "ax.fill_between(eval_x, bottom, top, alpha=0.5, color=\"b\")\n",
    "pylab.autoscale(enable=True, axis=\"x\", tight=True)\n"
   ]
  },
  {
   "cell_type": "code",
   "execution_count": null,
   "id": "62b54e5f-3ba3-4bf6-9f3d-ee42cd04dccc",
   "metadata": {},
   "outputs": [],
   "source": [
    "from tsmoothie.smoother import LowessSmoother\n",
    "smoother = LowessSmoother(smooth_fraction=0.6, iterations=1)\n",
    "smoother.smooth(radec[:,0])\n",
    "true = smoother.data\n",
    "prediction = smoother.smooth_data\n",
    "exog = smoother.X"
   ]
  },
  {
   "cell_type": "code",
   "execution_count": null,
   "id": "234bab6d-a9c1-4fd8-9185-03aea50ddbf4",
   "metadata": {},
   "outputs": [],
   "source": []
  },
  {
   "cell_type": "code",
   "execution_count": null,
   "id": "d03236f4-22fb-4acd-8c6d-e512e1e02a6b",
   "metadata": {},
   "outputs": [],
   "source": []
  },
  {
   "cell_type": "code",
   "execution_count": null,
   "id": "b141fdfd-c7c2-42df-b977-13b586c8810d",
   "metadata": {},
   "outputs": [],
   "source": [
    "radec[:,0]"
   ]
  },
  {
   "cell_type": "code",
   "execution_count": null,
   "id": "df3ff01c-382d-4f6c-a1fb-56b91f8165e9",
   "metadata": {},
   "outputs": [],
   "source": []
  },
  {
   "cell_type": "code",
   "execution_count": null,
   "id": "c1713b62-0ee5-47e9-b4d6-a7063ef7377d",
   "metadata": {},
   "outputs": [],
   "source": [
    "smoother.smooth_data"
   ]
  },
  {
   "cell_type": "code",
   "execution_count": null,
   "id": "1638b3ac-aae8-47c2-8932-6f0d82230da1",
   "metadata": {},
   "outputs": [],
   "source": [
    "exog = smoother.X"
   ]
  },
  {
   "cell_type": "code",
   "execution_count": null,
   "id": "793dcc6e-a93d-4a1c-bf76-9ef4cd36c01a",
   "metadata": {},
   "outputs": [],
   "source": [
    "exog = exog[:,None]"
   ]
  },
  {
   "cell_type": "code",
   "execution_count": null,
   "id": "14f45ac8-a17f-4337-8ce3-9ae0a4e7561e",
   "metadata": {},
   "outputs": [],
   "source": [
    "exog = np.concatenate([np.ones((len(exog), 1)), exog], axis=1)"
   ]
  },
  {
   "cell_type": "code",
   "execution_count": null,
   "id": "f6c3feb0-a383-4ab7-ba0a-7837f9224e60",
   "metadata": {},
   "outputs": [],
   "source": [
    "exog"
   ]
  },
  {
   "cell_type": "code",
   "execution_count": null,
   "id": "9e9f074c-1fe4-4968-87bb-c37002ab0039",
   "metadata": {},
   "outputs": [],
   "source": []
  },
  {
   "cell_type": "code",
   "execution_count": null,
   "id": "e9833708-16c6-488f-b4c7-e784823f8b35",
   "metadata": {},
   "outputs": [],
   "source": [
    "low,up = ff.get_intervals('confidence_interval',0.05)"
   ]
  },
  {
   "cell_type": "code",
   "execution_count": null,
   "id": "a77e08b0-b275-46cd-aac8-67192767eee3",
   "metadata": {},
   "outputs": [],
   "source": [
    "x_s"
   ]
  },
  {
   "cell_type": "code",
   "execution_count": null,
   "id": "26129c45-51b0-4ad3-a36d-56e4b42d35ab",
   "metadata": {},
   "outputs": [],
   "source": [
    "x_s - up[1]"
   ]
  },
  {
   "cell_type": "code",
   "execution_count": null,
   "id": "aca56dc5-3799-4050-ba19-e46b798b7cd5",
   "metadata": {},
   "outputs": [],
   "source": [
    "x_s - low[1]"
   ]
  },
  {
   "cell_type": "code",
   "execution_count": null,
   "id": "4af35f45-6a53-4a8e-b142-cfbb17a0e579",
   "metadata": {},
   "outputs": [],
   "source": [
    "up[0] - low[0]"
   ]
  },
  {
   "cell_type": "code",
   "execution_count": null,
   "id": "cda05bfb-d82f-408e-a0a9-acb9cf0f133c",
   "metadata": {},
   "outputs": [],
   "source": []
  },
  {
   "cell_type": "code",
   "execution_count": null,
   "id": "656a6ece-b55c-4222-abb4-5910f4089483",
   "metadata": {},
   "outputs": [],
   "source": []
  },
  {
   "cell_type": "code",
   "execution_count": null,
   "id": "16060ce9-a787-4dce-9d4c-fe5f8a157103",
   "metadata": {},
   "outputs": [],
   "source": []
  },
  {
   "cell_type": "code",
   "execution_count": null,
   "id": "e95986b1-d15a-43f3-b870-11de91034dc0",
   "metadata": {},
   "outputs": [],
   "source": [
    "# Plot the fit line\n",
    "fig, ax = pylab.subplots()\n",
    "\n",
    "ax.scatter(x, y)\n",
    "ax.plot(x_s, y_s, c=\"k\")\n",
    "pylab.autoscale(enable=True, axis=\"x\", tight=True)"
   ]
  },
  {
   "cell_type": "code",
   "execution_count": null,
   "id": "5041d555-8e3f-4249-8077-6fabca4a6029",
   "metadata": {},
   "outputs": [],
   "source": []
  },
  {
   "cell_type": "code",
   "execution_count": null,
   "id": "76ed6d9a-c631-4fb6-8d27-adfd528116e1",
   "metadata": {},
   "outputs": [],
   "source": []
  },
  {
   "cell_type": "code",
   "execution_count": null,
   "id": "f01b9cad-f68f-41b1-b41b-acef351e88c6",
   "metadata": {},
   "outputs": [],
   "source": []
  },
  {
   "cell_type": "code",
   "execution_count": null,
   "id": "3a437d8e-cb73-4fe7-a176-38fe6557a73a",
   "metadata": {},
   "outputs": [],
   "source": [
    "from numpy.linalg import norm"
   ]
  },
  {
   "cell_type": "code",
   "execution_count": null,
   "id": "fec7d7f5-d794-4f25-8a1f-6cecd12f72f5",
   "metadata": {},
   "outputs": [],
   "source": [
    "sigma = np.sqrt(norm(smoothed - y)**2/len(y))"
   ]
  },
  {
   "cell_type": "code",
   "execution_count": null,
   "id": "8035dc01-ac5f-40e2-89dc-c56fc57a00c9",
   "metadata": {},
   "outputs": [],
   "source": [
    "3*sigma"
   ]
  },
  {
   "cell_type": "code",
   "execution_count": null,
   "id": "35d46a74-4f70-4c5b-88b8-4a35ce840886",
   "metadata": {},
   "outputs": [],
   "source": [
    "flag = np.abs(smoothed - y) < 3*sigma"
   ]
  },
  {
   "cell_type": "code",
   "execution_count": null,
   "id": "de6cebd7-fdf0-4624-8751-6b0c06b71e95",
   "metadata": {},
   "outputs": [],
   "source": [
    "flag.sum()"
   ]
  },
  {
   "cell_type": "code",
   "execution_count": null,
   "id": "2e0f29c4-46aa-403f-8e1e-7ddaa43c7a1b",
   "metadata": {},
   "outputs": [],
   "source": [
    "smoothed[sigma]"
   ]
  },
  {
   "cell_type": "code",
   "execution_count": null,
   "id": "2f625e0e-d27e-4357-943f-d860678a2391",
   "metadata": {},
   "outputs": [],
   "source": [
    "from tsmoothie.utils_func import sim_randomwalk"
   ]
  },
  {
   "cell_type": "code",
   "execution_count": null,
   "id": "a98cc048-fd9f-495b-95fb-f7f4ff93dc77",
   "metadata": {},
   "outputs": [],
   "source": [
    "# generate 3 randomwalks of lenght 200\n",
    "np.random.seed(123)\n",
    "data = sim_randomwalk(n_series=3, timesteps=200,process_noise=10, measure_noise=30)\n"
   ]
  },
  {
   "cell_type": "code",
   "execution_count": null,
   "id": "d825235d-718d-4f06-814d-8515f3a17641",
   "metadata": {},
   "outputs": [],
   "source": [
    "data.shape"
   ]
  },
  {
   "cell_type": "code",
   "execution_count": null,
   "id": "44f7bb5c-e7fb-4e99-90ad-d10bbddf77e9",
   "metadata": {},
   "outputs": [],
   "source": [
    "from astropy.coordinates import spherical_to_cartesian"
   ]
  },
  {
   "cell_type": "code",
   "execution_count": null,
   "id": "f49bbfdd-3d12-42b6-b85f-97f56feb85b7",
   "metadata": {},
   "outputs": [],
   "source": [
    "spherical_to_cartesian(10,1,2)"
   ]
  },
  {
   "cell_type": "code",
   "execution_count": null,
   "id": "bd15d07a-c206-46ea-ad2f-b5326e177591",
   "metadata": {},
   "outputs": [],
   "source": []
  }
 ],
 "metadata": {
  "kernelspec": {
   "display_name": "Python 3 (ipykernel)",
   "language": "python",
   "name": "python3"
  },
  "language_info": {
   "codemirror_mode": {
    "name": "ipython",
    "version": 3
   },
   "file_extension": ".py",
   "mimetype": "text/x-python",
   "name": "python",
   "nbconvert_exporter": "python",
   "pygments_lexer": "ipython3",
   "version": "3.9.16"
  }
 },
 "nbformat": 4,
 "nbformat_minor": 5
}
