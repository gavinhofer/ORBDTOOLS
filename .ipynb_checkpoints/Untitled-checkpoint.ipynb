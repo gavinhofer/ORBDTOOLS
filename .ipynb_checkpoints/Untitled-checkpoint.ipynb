{
 "cells": [
  {
   "cell_type": "code",
   "execution_count": null,
   "id": "19bbc650-0c9d-4bf0-a9c2-48c6dee58fbb",
   "metadata": {},
   "outputs": [],
   "source": [
    "from orbdtools.arcmatch.parse_tle import load_tle_file"
   ]
  },
  {
   "cell_type": "code",
   "execution_count": null,
   "id": "44561b5e-d53a-4c1e-a0de-1db7e6885dcf",
   "metadata": {},
   "outputs": [],
   "source": [
    "tle_file = 'tle_20220524.txt'"
   ]
  },
  {
   "cell_type": "code",
   "execution_count": null,
   "id": "e00e8e6d-13b1-4d03-b0b1-e794cfbeca8b",
   "metadata": {},
   "outputs": [],
   "source": [
    "sats_Satrec_list = load_tle_file(tle_file)"
   ]
  },
  {
   "cell_type": "code",
   "execution_count": null,
   "id": "eca8e7b2-066f-4ad5-95ad-324ca7828bbc",
   "metadata": {},
   "outputs": [],
   "source": [
    "sats_Satrec_list"
   ]
  },
  {
   "cell_type": "code",
   "execution_count": null,
   "id": "1d6ecd58-c409-4975-9677-545fc5ee54f5",
   "metadata": {},
   "outputs": [],
   "source": [
    "from sgp4.api import SatrecArray"
   ]
  },
  {
   "cell_type": "code",
   "execution_count": null,
   "id": "ff2869b4-cd82-4b06-a95a-91e6a0a8600b",
   "metadata": {},
   "outputs": [],
   "source": [
    "gg = SatrecArray(sats_list)"
   ]
  },
  {
   "cell_type": "code",
   "execution_count": null,
   "id": "b82dbfaa-90ae-40f2-9996-e010571ff8d6",
   "metadata": {},
   "outputs": [],
   "source": [
    "gg.sgp4"
   ]
  },
  {
   "cell_type": "code",
   "execution_count": null,
   "id": "08f44a12-902d-4254-8846-1371ad4d3372",
   "metadata": {},
   "outputs": [],
   "source": [
    "hh = sats_list[0]"
   ]
  },
  {
   "cell_type": "code",
   "execution_count": null,
   "id": "3ed57b75-dcd0-4f06-987c-006574fde450",
   "metadata": {},
   "outputs": [],
   "source": [
    "hh.mo"
   ]
  },
  {
   "cell_type": "code",
   "execution_count": null,
   "id": "74cb6b0e-d4a1-4d16-a723-ba4a914a40c8",
   "metadata": {},
   "outputs": [],
   "source": [
    "hh.epochyr"
   ]
  },
  {
   "cell_type": "code",
   "execution_count": null,
   "id": "fdac31bc-9ac9-4441-a00f-b4e6496d6b5f",
   "metadata": {},
   "outputs": [],
   "source": [
    "hh.epochdays"
   ]
  },
  {
   "cell_type": "code",
   "execution_count": null,
   "id": "7e93b980-47da-4462-b0b3-b45b063405f1",
   "metadata": {},
   "outputs": [],
   "source": [
    "hh.e"
   ]
  },
  {
   "cell_type": "code",
   "execution_count": null,
   "id": "8fbd7b6a-107f-4225-9503-7fd0bafb0803",
   "metadata": {},
   "outputs": [],
   "source": [
    "from astropy.time import Time"
   ]
  },
  {
   "cell_type": "code",
   "execution_count": null,
   "id": "efcb122d-1e23-499a-a9d7-3834d89bffec",
   "metadata": {},
   "outputs": [],
   "source": [
    "obs_t = Time('2022-09-07T11:22:56.876')"
   ]
  },
  {
   "cell_type": "code",
   "execution_count": null,
   "id": "5363f899-73a5-4044-9114-008a0dedda72",
   "metadata": {},
   "outputs": [],
   "source": [
    "obs_t.byear"
   ]
  },
  {
   "cell_type": "code",
   "execution_count": null,
   "id": "993c2ae0-1624-43ed-a25c-059929562fba",
   "metadata": {},
   "outputs": [],
   "source": [
    "obs_t.decimalyear"
   ]
  },
  {
   "cell_type": "code",
   "execution_count": null,
   "id": "a5d3596e-35ae-409c-a0a9-9d992d610320",
   "metadata": {},
   "outputs": [],
   "source": [
    "obs_t."
   ]
  },
  {
   "cell_type": "code",
   "execution_count": 1,
   "id": "5e616c23-6be7-4c22-9ffa-36ac8f13aa03",
   "metadata": {},
   "outputs": [
    {
     "name": "stdout",
     "output_type": "stream",
     "text": [
      "EOP file 'finals2000A.all' in /Users/lichunxiao/src/eop-data/ is already the latest.\n"
     ]
    }
   ],
   "source": [
    "from orbdtools.classes.class_tle import TLE"
   ]
  },
  {
   "cell_type": "code",
   "execution_count": 2,
   "id": "07b9cdb7-5c61-4c80-af35-94473b8e63ad",
   "metadata": {},
   "outputs": [],
   "source": [
    "tle_file = 'tle_20220524.txt'"
   ]
  },
  {
   "cell_type": "code",
   "execution_count": 3,
   "id": "ef2db099-aae8-4dad-9ab6-bed9b4f704e7",
   "metadata": {},
   "outputs": [],
   "source": [
    "tle = TLE.from_file(tle_file)"
   ]
  },
  {
   "cell_type": "code",
   "execution_count": null,
   "id": "6a7c755e-6dda-4af9-843d-b278a95ec28e",
   "metadata": {},
   "outputs": [],
   "source": [
    "lin1 = \n",
    "lin2 = \n",
    "tle = TLE.from_file([lin1,lin2])"
   ]
  },
  {
   "cell_type": "code",
   "execution_count": 7,
   "id": "fc1822a0-1afd-44f9-b243-79434b1557ad",
   "metadata": {},
   "outputs": [
    {
     "data": {
      "text/plain": [
       "array([<sgp4.wrapper.Satrec object at 0x7fd1f7767a10>,\n",
       "       <sgp4.wrapper.Satrec object at 0x7fd1f7791c10>,\n",
       "       <sgp4.wrapper.Satrec object at 0x7fd1f7792210>, ...,\n",
       "       <sgp4.wrapper.Satrec object at 0x7fd1e43aa010>,\n",
       "       <sgp4.wrapper.Satrec object at 0x7fd1e43aa610>,\n",
       "       <sgp4.wrapper.Satrec object at 0x7fd1e43aac10>], dtype=object)"
      ]
     },
     "execution_count": 7,
     "metadata": {},
     "output_type": "execute_result"
    }
   ],
   "source": [
    "tle._sats_Satrec"
   ]
  },
  {
   "cell_type": "code",
   "execution_count": null,
   "id": "b0ed9160-d6fd-442c-acba-58cd466ebe50",
   "metadata": {},
   "outputs": [],
   "source": [
    "tle_epoch = tle.atEpoch('2022-05-23T22:00:02.000')"
   ]
  },
  {
   "cell_type": "code",
   "execution_count": null,
   "id": "1f37a104-8ac4-4b90-be95-79318bcc1fa4",
   "metadata": {},
   "outputs": [],
   "source": [
    "tle_epoch.predict()"
   ]
  },
  {
   "cell_type": "code",
   "execution_count": null,
   "id": "40ae1384-19a0-4598-a6f1-f4df8ac590c1",
   "metadata": {},
   "outputs": [],
   "source": [
    "tle._sats"
   ]
  },
  {
   "cell_type": "code",
   "execution_count": null,
   "id": "d0774667-dbc6-49f2-a069-9cf68de61f14",
   "metadata": {},
   "outputs": [],
   "source": [
    "SatrecArray(tle._sats)"
   ]
  },
  {
   "cell_type": "code",
   "execution_count": null,
   "id": "f56f9d1d-31dc-48ca-b6c4-8bc8ba9e7af8",
   "metadata": {},
   "outputs": [],
   "source": [
    "from skyfield.api import load,EarthSatellite"
   ]
  },
  {
   "cell_type": "code",
   "execution_count": null,
   "id": "ce8b4c52-2b21-4971-8fa5-efc00b2230a3",
   "metadata": {},
   "outputs": [],
   "source": [
    "EarthSatellite?"
   ]
  },
  {
   "cell_type": "code",
   "execution_count": null,
   "id": "805fd7df-42ee-4b28-825d-bb85c79a167c",
   "metadata": {},
   "outputs": [],
   "source": []
  }
 ],
 "metadata": {
  "kernelspec": {
   "display_name": "Python 3 (ipykernel)",
   "language": "python",
   "name": "python3"
  },
  "language_info": {
   "codemirror_mode": {
    "name": "ipython",
    "version": 3
   },
   "file_extension": ".py",
   "mimetype": "text/x-python",
   "name": "python",
   "nbconvert_exporter": "python",
   "pygments_lexer": "ipython3",
   "version": "3.9.16"
  }
 },
 "nbformat": 4,
 "nbformat_minor": 5
}
