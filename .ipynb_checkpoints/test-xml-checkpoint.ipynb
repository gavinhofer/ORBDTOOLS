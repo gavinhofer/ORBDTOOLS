{
 "cells": [
  {
   "cell_type": "code",
   "execution_count": 1,
   "id": "32387927-7557-4141-bd23-5a47ffc4ebd8",
   "metadata": {},
   "outputs": [],
   "source": [
    "import xml.etree.ElementTree as ET\n",
    "import numpy as np\n",
    "xml_tree = ET.parse('test.xml')\n",
    "xml_root = xml_tree.getroot()"
   ]
  },
  {
   "cell_type": "code",
   "execution_count": null,
   "id": "ccf89b41-fe8f-4eef-acb7-eef8be1c1eb2",
   "metadata": {},
   "outputs": [],
   "source": [
    "xml_root[0].tag"
   ]
  },
  {
   "cell_type": "code",
   "execution_count": null,
   "id": "40128825-6420-48ab-acc3-874e9e4fcdf7",
   "metadata": {},
   "outputs": [],
   "source": [
    "for x in myroot[0]:\n",
    "     print(x.tag, x.attrib)"
   ]
  },
  {
   "cell_type": "code",
   "execution_count": null,
   "id": "a0583712-372f-4193-83ca-3b0f810363d7",
   "metadata": {},
   "outputs": [],
   "source": [
    "for x in myroot[1]:\n",
    "    print(x.text)"
   ]
  },
  {
   "cell_type": "code",
   "execution_count": 8,
   "id": "b6b16613-14db-438f-96a4-e59fc2df35e7",
   "metadata": {},
   "outputs": [
    {
     "name": "stdout",
     "output_type": "stream",
     "text": [
      "{'id': ['cam0', 'cam1', 'cam6'], 'fov': [10.0, 20.0, 10.0], 'pixel_width': [0.01, 0.02, 0.01], 'res': [[1024, 1024], [2048, 2048], [1024, 1024]], 'mag_threshold': [9.0, 8.0, 9.0]}\n"
     ]
    }
   ],
   "source": [
    "id_list,fov_list,pixel_width_list,res_list,mag_threshold_list = [],[],[],[],[]\n",
    "\n",
    "for x in xml_root.findall('camera'):\n",
    "    id_ =x.find('id').text\n",
    "    fov_ = float(x.find('fov').text)\n",
    "    pixel_width_ = float(x.find('pixel_width').text)\n",
    "    res_ = x.find('res').text\n",
    "    res_ = np.array(res_.strip(')(').split(',')).astype(int).tolist()\n",
    "    mag_threshold_ = float(x.find('mag_threshold').text)\n",
    "    \n",
    "    id_list.append(id_)\n",
    "    fov_list.append(fov_)\n",
    "    pixel_width_list.append(pixel_width_)\n",
    "    res_list.append(res_)\n",
    "    mag_threshold_list.append(mag_threshold_)  \n",
    "    \n",
    "camera_params = {'id':id_list,'fov':fov_list,'pixel_width':pixel_width_list,'res':res_list,'mag_threshold':mag_threshold_list}"
   ]
  },
  {
   "cell_type": "code",
   "execution_count": null,
   "id": "680c1086-0c34-4db0-8f35-9f89274bfca6",
   "metadata": {},
   "outputs": [],
   "source": [
    "ss = '(1024,1024)'"
   ]
  },
  {
   "cell_type": "code",
   "execution_count": 7,
   "id": "94435ff7-0fcc-45b0-a41b-5c8fed9eb294",
   "metadata": {},
   "outputs": [
    {
     "data": {
      "text/plain": [
       "[[], [], [], [], []]"
      ]
     },
     "execution_count": 7,
     "metadata": {},
     "output_type": "execute_result"
    }
   ],
   "source": [
    "[[]]*5"
   ]
  },
  {
   "cell_type": "code",
   "execution_count": null,
   "id": "15c73091-ff84-4ad2-8300-e0d16188ac50",
   "metadata": {},
   "outputs": [],
   "source": [
    "np.array(ss.strip(')('))"
   ]
  },
  {
   "cell_type": "code",
   "execution_count": null,
   "id": "5cd93ac3-1e00-4b95-832d-68df5d0721d6",
   "metadata": {},
   "outputs": [],
   "source": [
    "np.array(ss.strip(\"')(')\").astype(float)"
   ]
  },
  {
   "cell_type": "code",
   "execution_count": null,
   "id": "2550d70b-f342-400b-bc90-22df3e4b6df4",
   "metadata": {},
   "outputs": [],
   "source": [
    "for x in xml_root.findall('camera'):\n",
    "    item =x.text\n",
    "    print(item)"
   ]
  },
  {
   "cell_type": "code",
   "execution_count": null,
   "id": "5e4c6589-ac39-4691-9f8f-17d1df37fa9e",
   "metadata": {},
   "outputs": [],
   "source": [
    "camera_params = {'id':['cam0','cam1','cam6'],\n",
    "                 'fov':[10,20,10],\n",
    "                 'pixel_width':[0.01,0.02,0.01],\n",
    "                 'res':[(1024,1024),(2048,2028),(1024,1024)],\n",
    "                 'mag_threshold':[9,8,9]}"
   ]
  }
 ],
 "metadata": {
  "kernelspec": {
   "display_name": "Python 3 (ipykernel)",
   "language": "python",
   "name": "python3"
  },
  "language_info": {
   "codemirror_mode": {
    "name": "ipython",
    "version": 3
   },
   "file_extension": ".py",
   "mimetype": "text/x-python",
   "name": "python",
   "nbconvert_exporter": "python",
   "pygments_lexer": "ipython3",
   "version": "3.9.16"
  }
 },
 "nbformat": 4,
 "nbformat_minor": 5
}
